{
 "cells": [
  {
   "cell_type": "code",
   "execution_count": 4,
   "id": "d475b5ff",
   "metadata": {},
   "outputs": [
    {
     "data": {
      "image/png": "[encoded data removed]",
      "text/plain": [
       "<Figure size 432x288 with 1 Axes>"
      ]
     },
     "metadata": {
      "needs_background": "light"
     },
     "output_type": "display_data"
    }
   ],
   "source": [
    "import matplotlib.pyplot as plt\n",
    "from matplotlib.patches import Polygon\n",
    "from matplotlib.collections import PatchCollection\n",
    "import itertools\n",
    "\n",
    "class PolygonSequence:\n",
    "    def __init__(self, polygons):\n",
    "        self.polygons = polygons\n",
    "\n",
    "    def generate_polygon(self, points):\n",
    "        return Polygon(points, closed=True)\n",
    "\n",
    "    def visualize(self):\n",
    "        fig, ax = plt.subplots()\n",
    "        patches = [self.generate_polygon(polygon) for polygon in self.polygons]\n",
    "        p = PatchCollection(patches, alpha=0.4)\n",
    "        ax.add_collection(p)\n",
    "        ax.autoscale()\n",
    "        plt.axis('equal')\n",
    "        plt.show()\n",
    "\n",
    "# Пример \n",
    "if __name__ == '__main__':\n",
    "    polygons = [((0, 0), (0, 1), (1, 1), (1, 0)), ((1, 1), (1, 2), (2, 2), (2, 1))]\n",
    "    seq = PolygonSequence(polygons)\n",
    "    seq.visualize()\n"
   ]
  },
  {
   "cell_type": "code",
   "execution_count": 5,
   "id": "bd052ee5",
   "metadata": {},
   "outputs": [
    {
     "data": {
      "image/png": "[encoded data removed]",
      "text/plain": [
       "<Figure size 432x288 with 1 Axes>"
      ]
     },
     "metadata": {
      "needs_background": "light"
     },
     "output_type": "display_data"
    }
   ],
   "source": [
    "import itertools\n",
    "import matplotlib.pyplot as plt\n",
    "from matplotlib.patches import Polygon\n",
    "from matplotlib.collections import PatchCollection\n",
    "\n",
    "def gen_rectangle():\n",
    "    x = 0\n",
    "    while True:\n",
    "        yield [(x, 0), (x+1, 0), (x+1, 1), (x, 1)]\n",
    "        x += 1\n",
    "\n",
    "def gen_triangle():\n",
    "    x = 0\n",
    "    while True:\n",
    "        yield [(x, 0), (x+1, 0), (x+0.5, 1)]\n",
    "        x += 1\n",
    "\n",
    "def gen_hexagon():\n",
    "    x = 0\n",
    "    while True:\n",
    "        yield [(x, 0.5), (x+0.25, 0), (x+0.75, 0), (x+1, 0.5), (x+0.75, 1), (x+0.25, 1)]\n",
    "        x += 1\n",
    "\n",
    "def visualize_polygons(polygons):\n",
    "    fig, ax = plt.subplots()\n",
    "    patches = [Polygon(polygon, closed=True) for polygon in itertools.islice(polygons, 7)]\n",
    "    p = PatchCollection(patches, alpha=0.4)\n",
    "    ax.add_collection(p)\n",
    "    ax.autoscale_view()\n",
    "    plt.show()\n",
    "\n",
    "rectangles = gen_rectangle()\n",
    "triangles = gen_triangle()\n",
    "hexagons = gen_hexagon()\n",
    "\n",
    "polygons = itertools.chain(rectangles, triangles, hexagons)\n",
    "visualize_polygons(polygons)\n"
   ]
  },
  {
   "cell_type": "code",
   "execution_count": null,
   "id": "d8559e77",
   "metadata": {},
   "outputs": [],
   "source": []
  },
  {
   "cell_type": "code",
   "execution_count": null,
   "id": "b566d695",
   "metadata": {},
   "outputs": [],
   "source": []
  }
 ],
 "metadata": {
  "kernelspec": {
   "display_name": "Python 3 (ipykernel)",
   "language": "python",
   "name": "python3"
  },
  "language_info": {
   "codemirror_mode": {
    "name": "ipython",
    "version": 3
   },
   "file_extension": ".py",
   "mimetype": "text/x-python",
   "name": "python",
   "nbconvert_exporter": "python",
   "pygments_lexer": "ipython3",
   "version": "3.9.7"
  }
 },
 "nbformat": 4,
 "nbformat_minor": 5
}
